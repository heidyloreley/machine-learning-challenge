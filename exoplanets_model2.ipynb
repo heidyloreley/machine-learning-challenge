{
 "cells": [
  {
   "cell_type": "code",
   "execution_count": 1,
   "metadata": {},
   "outputs": [],
   "source": [
    "#Dependencies\n",
    "import numpy as np\n",
    "import pandas as pd\n",
    "\n",
    "from sklearn.model_selection import train_test_split\n",
    "from sklearn.svm import SVC \n",
    "from sklearn.metrics import classification_report\n"
   ]
  },
  {
   "cell_type": "markdown",
   "metadata": {},
   "source": [
    "EXTRACT"
   ]
  },
  {
   "cell_type": "code",
   "execution_count": 2,
   "metadata": {
    "tags": []
   },
   "outputs": [
    {
     "output_type": "stream",
     "name": "stdout",
     "text": "rows: 9564 / columns: 50\n"
    },
    {
     "output_type": "execute_result",
     "data": {
      "text/plain": "   rowid     kepid kepoi_name   kepler_name koi_disposition koi_pdisposition  \\\n0      1  10797460  K00752.01  Kepler-227 b       CONFIRMED        CANDIDATE   \n1      2  10797460  K00752.02  Kepler-227 c       CONFIRMED        CANDIDATE   \n2      3  10811496  K00753.01           NaN  FALSE POSITIVE   FALSE POSITIVE   \n3      4  10848459  K00754.01           NaN  FALSE POSITIVE   FALSE POSITIVE   \n4      5  10854555  K00755.01  Kepler-664 b       CONFIRMED        CANDIDATE   \n\n   koi_score  koi_fpflag_nt  koi_fpflag_ss  koi_fpflag_co  ...  \\\n0      1.000              0              0              0  ...   \n1      0.969              0              0              0  ...   \n2      0.000              0              1              0  ...   \n3      0.000              0              1              0  ...   \n4      1.000              0              0              0  ...   \n\n   koi_steff_err2  koi_slogg  koi_slogg_err1  koi_slogg_err2  koi_srad  \\\n0           -81.0      4.467           0.064          -0.096     0.927   \n1           -81.0      4.467           0.064          -0.096     0.927   \n2          -176.0      4.544           0.044          -0.176     0.868   \n3          -174.0      4.564           0.053          -0.168     0.791   \n4          -211.0      4.438           0.070          -0.210     1.046   \n\n   koi_srad_err1  koi_srad_err2         ra        dec  koi_kepmag  \n0          0.105         -0.061  291.93423  48.141651      15.347  \n1          0.105         -0.061  291.93423  48.141651      15.347  \n2          0.233         -0.078  297.00482  48.134129      15.436  \n3          0.201         -0.067  285.53461  48.285210      15.597  \n4          0.334         -0.133  288.75488  48.226200      15.509  \n\n[5 rows x 50 columns]",
      "text/html": "<div>\n<style scoped>\n    .dataframe tbody tr th:only-of-type {\n        vertical-align: middle;\n    }\n\n    .dataframe tbody tr th {\n        vertical-align: top;\n    }\n\n    .dataframe thead th {\n        text-align: right;\n    }\n</style>\n<table border=\"1\" class=\"dataframe\">\n  <thead>\n    <tr style=\"text-align: right;\">\n      <th></th>\n      <th>rowid</th>\n      <th>kepid</th>\n      <th>kepoi_name</th>\n      <th>kepler_name</th>\n      <th>koi_disposition</th>\n      <th>koi_pdisposition</th>\n      <th>koi_score</th>\n      <th>koi_fpflag_nt</th>\n      <th>koi_fpflag_ss</th>\n      <th>koi_fpflag_co</th>\n      <th>...</th>\n      <th>koi_steff_err2</th>\n      <th>koi_slogg</th>\n      <th>koi_slogg_err1</th>\n      <th>koi_slogg_err2</th>\n      <th>koi_srad</th>\n      <th>koi_srad_err1</th>\n      <th>koi_srad_err2</th>\n      <th>ra</th>\n      <th>dec</th>\n      <th>koi_kepmag</th>\n    </tr>\n  </thead>\n  <tbody>\n    <tr>\n      <td>0</td>\n      <td>1</td>\n      <td>10797460</td>\n      <td>K00752.01</td>\n      <td>Kepler-227 b</td>\n      <td>CONFIRMED</td>\n      <td>CANDIDATE</td>\n      <td>1.000</td>\n      <td>0</td>\n      <td>0</td>\n      <td>0</td>\n      <td>...</td>\n      <td>-81.0</td>\n      <td>4.467</td>\n      <td>0.064</td>\n      <td>-0.096</td>\n      <td>0.927</td>\n      <td>0.105</td>\n      <td>-0.061</td>\n      <td>291.93423</td>\n      <td>48.141651</td>\n      <td>15.347</td>\n    </tr>\n    <tr>\n      <td>1</td>\n      <td>2</td>\n      <td>10797460</td>\n      <td>K00752.02</td>\n      <td>Kepler-227 c</td>\n      <td>CONFIRMED</td>\n      <td>CANDIDATE</td>\n      <td>0.969</td>\n      <td>0</td>\n      <td>0</td>\n      <td>0</td>\n      <td>...</td>\n      <td>-81.0</td>\n      <td>4.467</td>\n      <td>0.064</td>\n      <td>-0.096</td>\n      <td>0.927</td>\n      <td>0.105</td>\n      <td>-0.061</td>\n      <td>291.93423</td>\n      <td>48.141651</td>\n      <td>15.347</td>\n    </tr>\n    <tr>\n      <td>2</td>\n      <td>3</td>\n      <td>10811496</td>\n      <td>K00753.01</td>\n      <td>NaN</td>\n      <td>FALSE POSITIVE</td>\n      <td>FALSE POSITIVE</td>\n      <td>0.000</td>\n      <td>0</td>\n      <td>1</td>\n      <td>0</td>\n      <td>...</td>\n      <td>-176.0</td>\n      <td>4.544</td>\n      <td>0.044</td>\n      <td>-0.176</td>\n      <td>0.868</td>\n      <td>0.233</td>\n      <td>-0.078</td>\n      <td>297.00482</td>\n      <td>48.134129</td>\n      <td>15.436</td>\n    </tr>\n    <tr>\n      <td>3</td>\n      <td>4</td>\n      <td>10848459</td>\n      <td>K00754.01</td>\n      <td>NaN</td>\n      <td>FALSE POSITIVE</td>\n      <td>FALSE POSITIVE</td>\n      <td>0.000</td>\n      <td>0</td>\n      <td>1</td>\n      <td>0</td>\n      <td>...</td>\n      <td>-174.0</td>\n      <td>4.564</td>\n      <td>0.053</td>\n      <td>-0.168</td>\n      <td>0.791</td>\n      <td>0.201</td>\n      <td>-0.067</td>\n      <td>285.53461</td>\n      <td>48.285210</td>\n      <td>15.597</td>\n    </tr>\n    <tr>\n      <td>4</td>\n      <td>5</td>\n      <td>10854555</td>\n      <td>K00755.01</td>\n      <td>Kepler-664 b</td>\n      <td>CONFIRMED</td>\n      <td>CANDIDATE</td>\n      <td>1.000</td>\n      <td>0</td>\n      <td>0</td>\n      <td>0</td>\n      <td>...</td>\n      <td>-211.0</td>\n      <td>4.438</td>\n      <td>0.070</td>\n      <td>-0.210</td>\n      <td>1.046</td>\n      <td>0.334</td>\n      <td>-0.133</td>\n      <td>288.75488</td>\n      <td>48.226200</td>\n      <td>15.509</td>\n    </tr>\n  </tbody>\n</table>\n<p>5 rows × 50 columns</p>\n</div>"
     },
     "metadata": {},
     "execution_count": 2
    }
   ],
   "source": [
    "# Read the csv file into a pandas DataFrame\n",
    "df = pd.read_csv('Resources/cumulative.csv')\n",
    "print(f\"rows: {len(df)} / columns: {len(df.columns)}\")\n",
    "df.head()\n"
   ]
  },
  {
   "cell_type": "markdown",
   "metadata": {},
   "source": [
    "TRANSFORM"
   ]
  },
  {
   "cell_type": "code",
   "execution_count": 3,
   "metadata": {
    "tags": []
   },
   "outputs": [
    {
     "output_type": "stream",
     "name": "stdout",
     "text": "rows: 2269 / columns: 42\n"
    },
    {
     "output_type": "execute_result",
     "data": {
      "text/plain": "  koi_disposition  koi_score  koi_fpflag_nt  koi_fpflag_ss  koi_fpflag_co  \\\n0       CONFIRMED      1.000              0              0              0   \n1       CONFIRMED      0.969              0              0              0   \n4       CONFIRMED      1.000              0              0              0   \n5       CONFIRMED      1.000              0              0              0   \n6       CONFIRMED      1.000              0              0              0   \n\n   koi_fpflag_ec  koi_period  koi_period_err1  koi_period_err2  koi_time0bk  \\\n0              0    9.488036         0.000028        -0.000028    170.53875   \n1              0   54.418383         0.000248        -0.000248    162.51384   \n4              0    2.525592         0.000004        -0.000004    171.59555   \n5              0   11.094321         0.000020        -0.000020    171.20116   \n6              0    4.134435         0.000010        -0.000010    172.97937   \n\n   ...  koi_steff_err2  koi_slogg  koi_slogg_err1  koi_slogg_err2  koi_srad  \\\n0  ...           -81.0      4.467           0.064          -0.096     0.927   \n1  ...           -81.0      4.467           0.064          -0.096     0.927   \n4  ...          -211.0      4.438           0.070          -0.210     1.046   \n5  ...          -232.0      4.486           0.054          -0.229     0.972   \n6  ...          -232.0      4.486           0.054          -0.229     0.972   \n\n   koi_srad_err1  koi_srad_err2         ra        dec  koi_kepmag  \n0          0.105         -0.061  291.93423  48.141651      15.347  \n1          0.105         -0.061  291.93423  48.141651      15.347  \n4          0.334         -0.133  288.75488  48.226200      15.509  \n5          0.315         -0.105  296.28613  48.224670      15.714  \n6          0.315         -0.105  296.28613  48.224670      15.714  \n\n[5 rows x 42 columns]",
      "text/html": "<div>\n<style scoped>\n    .dataframe tbody tr th:only-of-type {\n        vertical-align: middle;\n    }\n\n    .dataframe tbody tr th {\n        vertical-align: top;\n    }\n\n    .dataframe thead th {\n        text-align: right;\n    }\n</style>\n<table border=\"1\" class=\"dataframe\">\n  <thead>\n    <tr style=\"text-align: right;\">\n      <th></th>\n      <th>koi_disposition</th>\n      <th>koi_score</th>\n      <th>koi_fpflag_nt</th>\n      <th>koi_fpflag_ss</th>\n      <th>koi_fpflag_co</th>\n      <th>koi_fpflag_ec</th>\n      <th>koi_period</th>\n      <th>koi_period_err1</th>\n      <th>koi_period_err2</th>\n      <th>koi_time0bk</th>\n      <th>...</th>\n      <th>koi_steff_err2</th>\n      <th>koi_slogg</th>\n      <th>koi_slogg_err1</th>\n      <th>koi_slogg_err2</th>\n      <th>koi_srad</th>\n      <th>koi_srad_err1</th>\n      <th>koi_srad_err2</th>\n      <th>ra</th>\n      <th>dec</th>\n      <th>koi_kepmag</th>\n    </tr>\n  </thead>\n  <tbody>\n    <tr>\n      <td>0</td>\n      <td>CONFIRMED</td>\n      <td>1.000</td>\n      <td>0</td>\n      <td>0</td>\n      <td>0</td>\n      <td>0</td>\n      <td>9.488036</td>\n      <td>0.000028</td>\n      <td>-0.000028</td>\n      <td>170.53875</td>\n      <td>...</td>\n      <td>-81.0</td>\n      <td>4.467</td>\n      <td>0.064</td>\n      <td>-0.096</td>\n      <td>0.927</td>\n      <td>0.105</td>\n      <td>-0.061</td>\n      <td>291.93423</td>\n      <td>48.141651</td>\n      <td>15.347</td>\n    </tr>\n    <tr>\n      <td>1</td>\n      <td>CONFIRMED</td>\n      <td>0.969</td>\n      <td>0</td>\n      <td>0</td>\n      <td>0</td>\n      <td>0</td>\n      <td>54.418383</td>\n      <td>0.000248</td>\n      <td>-0.000248</td>\n      <td>162.51384</td>\n      <td>...</td>\n      <td>-81.0</td>\n      <td>4.467</td>\n      <td>0.064</td>\n      <td>-0.096</td>\n      <td>0.927</td>\n      <td>0.105</td>\n      <td>-0.061</td>\n      <td>291.93423</td>\n      <td>48.141651</td>\n      <td>15.347</td>\n    </tr>\n    <tr>\n      <td>4</td>\n      <td>CONFIRMED</td>\n      <td>1.000</td>\n      <td>0</td>\n      <td>0</td>\n      <td>0</td>\n      <td>0</td>\n      <td>2.525592</td>\n      <td>0.000004</td>\n      <td>-0.000004</td>\n      <td>171.59555</td>\n      <td>...</td>\n      <td>-211.0</td>\n      <td>4.438</td>\n      <td>0.070</td>\n      <td>-0.210</td>\n      <td>1.046</td>\n      <td>0.334</td>\n      <td>-0.133</td>\n      <td>288.75488</td>\n      <td>48.226200</td>\n      <td>15.509</td>\n    </tr>\n    <tr>\n      <td>5</td>\n      <td>CONFIRMED</td>\n      <td>1.000</td>\n      <td>0</td>\n      <td>0</td>\n      <td>0</td>\n      <td>0</td>\n      <td>11.094321</td>\n      <td>0.000020</td>\n      <td>-0.000020</td>\n      <td>171.20116</td>\n      <td>...</td>\n      <td>-232.0</td>\n      <td>4.486</td>\n      <td>0.054</td>\n      <td>-0.229</td>\n      <td>0.972</td>\n      <td>0.315</td>\n      <td>-0.105</td>\n      <td>296.28613</td>\n      <td>48.224670</td>\n      <td>15.714</td>\n    </tr>\n    <tr>\n      <td>6</td>\n      <td>CONFIRMED</td>\n      <td>1.000</td>\n      <td>0</td>\n      <td>0</td>\n      <td>0</td>\n      <td>0</td>\n      <td>4.134435</td>\n      <td>0.000010</td>\n      <td>-0.000010</td>\n      <td>172.97937</td>\n      <td>...</td>\n      <td>-232.0</td>\n      <td>4.486</td>\n      <td>0.054</td>\n      <td>-0.229</td>\n      <td>0.972</td>\n      <td>0.315</td>\n      <td>-0.105</td>\n      <td>296.28613</td>\n      <td>48.224670</td>\n      <td>15.714</td>\n    </tr>\n  </tbody>\n</table>\n<p>5 rows × 42 columns</p>\n</div>"
     },
     "metadata": {},
     "execution_count": 3
    }
   ],
   "source": [
    "#Clean data\n",
    "#1. Remove empty columns and null values\n",
    "df2 = df.dropna(axis=1,how=\"all\")  # todas permanecen despues\n",
    "\n",
    "#2. Remove empty values (rows with some empty values)\n",
    "df3 = df2.dropna()\n",
    "\n",
    "#3. Remove unnecessary columns | keep only features and outcome\n",
    "df4 = df3.drop([\"rowid\",\"kepid\",\"kepoi_name\",\"kepler_name\",\"koi_pdisposition\",\"koi_tce_delivname\"], axis=1)  \n",
    "\n",
    "print(f\"rows: {len(df4)} / columns: {len(df4.columns)}\")\n",
    "df4.head()"
   ]
  },
  {
   "cell_type": "code",
   "execution_count": 4,
   "metadata": {
    "tags": []
   },
   "outputs": [
    {
     "output_type": "stream",
     "name": "stdout",
     "text": "(2269, 41) (2269,)\n"
    }
   ],
   "source": [
    "# 4. Define features/Input variables (\"X\") and Outcome column with its values (\"y\")\n",
    "\n",
    "X = df4.drop([\"koi_disposition\"], axis=1)  \n",
    "feature_names = X.columns\n",
    "\n",
    "y = df4[\"koi_disposition\"]\n",
    "\n",
    "print(X.shape,y.shape)\n"
   ]
  },
  {
   "cell_type": "markdown",
   "metadata": {},
   "source": [
    "PREPROCESSING\n"
   ]
  },
  {
   "cell_type": "code",
   "execution_count": 5,
   "metadata": {
    "tags": []
   },
   "outputs": [
    {
     "output_type": "stream",
     "name": "stdout",
     "text": "(1701, 41) (1701,)\n(568, 41) (568,)\n"
    }
   ],
   "source": [
    "# 1. Split data into training and testing data\n",
    "X_train, X_test, y_train, y_test = train_test_split(X,y,random_state = 45)\n",
    "print(X_train.shape,y_train.shape)\n",
    "print(X_test.shape,y_test.shape)"
   ]
  },
  {
   "cell_type": "code",
   "execution_count": 6,
   "metadata": {},
   "outputs": [],
   "source": [
    "#3. Scale the INPUT data using \"MinMaxScaler\" (applies only for features values), and the OUTPUT data with \"LabelEncoder\"(works only for target values). Normalize data and apply transformation\n",
    "from sklearn.preprocessing import MinMaxScaler\n",
    "from sklearn.preprocessing import LabelEncoder\n",
    "\n",
    "X_scaled = MinMaxScaler().fit(X_train)\n",
    "y_scaled = LabelEncoder().fit(y_train)\n",
    "\n",
    "X_train_scaled = X_scaled.transform(X_train)\n",
    "X_test_scaled = X_scaled.transform(X_test)\n",
    "y_train_scaled = y_scaled.transform(y_train)\n",
    "y_test_scaled = y_scaled.transform(y_test)"
   ]
  },
  {
   "cell_type": "markdown",
   "metadata": {},
   "source": [
    "CREATE AND TEST MODEL (SVC Model)"
   ]
  },
  {
   "cell_type": "code",
   "execution_count": 7,
   "metadata": {},
   "outputs": [
    {
     "output_type": "execute_result",
     "data": {
      "text/plain": "SVC(C=1.0, cache_size=200, class_weight=None, coef0=0.0,\n    decision_function_shape='ovr', degree=3, gamma='auto_deprecated',\n    kernel='linear', max_iter=-1, probability=False, random_state=None,\n    shrinking=True, tol=0.001, verbose=False)"
     },
     "metadata": {},
     "execution_count": 7
    }
   ],
   "source": [
    "# 1. Create the SVC Model to fit it to the scaled training data\n",
    "model = SVC(kernel='linear')\n",
    "model.fit(X_train_scaled, y_train_scaled)\n",
    "model"
   ]
  },
  {
   "cell_type": "code",
   "execution_count": 8,
   "metadata": {
    "tags": []
   },
   "outputs": [
    {
     "output_type": "stream",
     "name": "stdout",
     "text": "precision    recall  f1-score   support\n\n     CONFIRMED       1.00      1.00      1.00       568\nFALSE POSITIVE       0.00      0.00      0.00         0\n\n      accuracy                           1.00       568\n     macro avg       0.50      0.50      0.50       568\n  weighted avg       1.00      1.00      1.00       568\n\n"
    }
   ],
   "source": [
    "#2. Validate with the test data and print Classification Report\n",
    "from sklearn.metrics import classification_report  \n",
    "\n",
    "predictions = model.predict(X_test_scaled)\n",
    "print(classification_report(y_test_scaled, predictions, target_names=y.unique()))\n"
   ]
  },
  {
   "cell_type": "code",
   "execution_count": 9,
   "metadata": {
    "tags": []
   },
   "outputs": [
    {
     "output_type": "stream",
     "name": "stdout",
     "text": "Training Accuracy: 0.999\nTesting Accuracy: 0.998\n"
    }
   ],
   "source": [
    "# 3. Validate Model Accuracy  \n",
    "print('Training Accuracy: %.3f' % model.score(X_train_scaled, y_train_scaled))\n",
    "print('Testing Accuracy: %.3f' % model.score(X_test_scaled, y_test_scaled))"
   ]
  },
  {
   "cell_type": "markdown",
   "metadata": {},
   "source": [
    "It wouldn't be possible to apply an Hyper tunning of the model, because the model already have an accuracy of 1. And this is because all cases fell in the category of \"CONFIRMED\"."
   ]
  },
  {
   "cell_type": "markdown",
   "metadata": {},
   "source": [
    "Hyper parameter Tunning - DOES NOT APPLY"
   ]
  },
  {
   "cell_type": "code",
   "execution_count": 10,
   "metadata": {
    "tags": []
   },
   "outputs": [],
   "source": [
    "# 1. Create the GridSearch estimator along with a parameter object containing the values to adjust\n",
    "\n",
    "# from sklearn.model_selection import GridSearchCV\n",
    "# param_grid = {\"C\": [1, 5, 10, 50], \"gamma\": [0.0001, 0.0005, 0.001, 0.005]}\n",
    "# grid = GridSearchCV(model, param_grid, verbose=3)\n",
    "\n",
    "#2. Fit the model using the GridSearch estimator \n",
    "# grid.fit(X_train_scaled, y_train_scaled)\n",
    "\n",
    "# 3. List the Best Parameters and Best Score for this dataset\n",
    "# print(f\"Best Parameters: {grid.best_params_}\")\n",
    "# print(f\"Best score: {grid.best_score_}\")\n",
    "\n",
    "#4. Validate (make predictions) with the hypertuned model and print Classification Report\n",
    "# predictions_grid = grid.predict(X_test_scaled)\n",
    "# print(classification_report(y_test_scaled, predictions_grid, target_names=y.unique()))\n",
    "\n",
    "# 5. Validate Model Accuracy   \n",
    "# print('Training Accuracy: %.3f' % grid.score(X_train_scaled, y_train_scaled))\n",
    "# print('Testing Accuracy: %.3f' % grid.score(X_test_scaled, y_test_scaled))"
   ]
  },
  {
   "cell_type": "markdown",
   "metadata": {},
   "source": [
    "MODEL PERFORMANCE COMPARISON - DOES NOT APPLY"
   ]
  },
  {
   "cell_type": "code",
   "execution_count": 11,
   "metadata": {
    "tags": []
   },
   "outputs": [],
   "source": [
    "# FINAL COMPARISON\n",
    "\n",
    "# print('Initial vs Tuned Model Training Accuracy: %.3f vs %.3f' % (model.score(X_train_scaled, y_train_scaled), grid.score(X_train_scaled, y_train_scaled)))\n",
    "\n",
    "# print('Initial vs Tuned Model Testing Accuracy: %.3f vs %.3f' % (model.score(X_test_scaled, y_test_scaled), grid.score(X_test_scaled, y_test_scaled)))\n",
    "\n",
    "\n"
   ]
  },
  {
   "cell_type": "markdown",
   "metadata": {},
   "source": [
    "SAVE MODEL TO FILE"
   ]
  },
  {
   "cell_type": "code",
   "execution_count": 12,
   "metadata": {},
   "outputs": [
    {
     "output_type": "execute_result",
     "data": {
      "text/plain": "['exoplanet_model2_HeidyG.sav']"
     },
     "metadata": {},
     "execution_count": 12
    }
   ],
   "source": [
    "#Save model to file\n",
    "#(from https://scikit-learn.org/stable/tutorial/basic/tutorial.html?highlight=save%20model%20file)\n",
    "\n",
    "from joblib import dump\n",
    "dump(model, 'exoplanet_model2_HeidyG.sav') "
   ]
  },
  {
   "cell_type": "code",
   "execution_count": null,
   "metadata": {},
   "outputs": [],
   "source": []
  }
 ],
 "metadata": {
  "language_info": {
   "codemirror_mode": {
    "name": "ipython",
    "version": 3
   },
   "file_extension": ".py",
   "mimetype": "text/x-python",
   "name": "python",
   "nbconvert_exporter": "python",
   "pygments_lexer": "ipython3",
   "version": "3.7.4-final"
  },
  "orig_nbformat": 2,
  "kernelspec": {
   "name": "python37464bitbaseconda621df6d49d2c4311a89d7503a44084b1",
   "display_name": "Python 3.7.4 64-bit ('base': conda)"
  }
 },
 "nbformat": 4,
 "nbformat_minor": 2
}